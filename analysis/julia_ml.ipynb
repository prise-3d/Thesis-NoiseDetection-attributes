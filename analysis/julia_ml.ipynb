{
 "cells": [
  {
   "cell_type": "code",
   "execution_count": 30,
   "metadata": {},
   "outputs": [],
   "source": [
    "#using PyCall\n",
    "using DataFrames\n",
    "using CSV\n",
    "using PyCall, JLD, PyCallJLD"
   ]
  },
  {
   "cell_type": "code",
   "execution_count": 5,
   "metadata": {},
   "outputs": [
    {
     "data": {
      "text/plain": [
       "0.83418762482611"
      ]
     },
     "execution_count": 5,
     "metadata": {},
     "output_type": "execute_result"
    }
   ],
   "source": [
    "## Example of python code used into julia\n",
    "#ipfml_utils = pyimport(\"ipfml.utils\")\n",
    "#b = [1:10;]\n",
    "#ipfml_utils.get_entropy(b)"
   ]
  },
  {
   "cell_type": "markdown",
   "metadata": {},
   "source": [
    "## Example of Julia use for train"
   ]
  },
  {
   "cell_type": "markdown",
   "metadata": {},
   "source": [
    "### Prepare dataframe"
   ]
  },
  {
   "cell_type": "code",
   "execution_count": 6,
   "metadata": {},
   "outputs": [
    {
     "data": {
      "text/plain": [
       "\"test_model\""
      ]
     },
     "execution_count": 6,
     "metadata": {},
     "output_type": "execute_result"
    }
   ],
   "source": [
    "## Define file variable\n",
    "data_filename = \"../data/test_data\"\n",
    "output_filename = \"test_model\""
   ]
  },
  {
   "cell_type": "code",
   "execution_count": 7,
   "metadata": {},
   "outputs": [
    {
     "data": {
      "text/html": [
       "<table class=\"data-frame\"><thead><tr><th></th><th>Column1</th><th>Column2</th><th>Column3</th><th>Column4</th><th>Column5</th><th>Column6</th><th>Column7</th><th>Column8</th><th>Column9</th><th>Column10</th><th>Column11</th><th>Column12</th><th>Column13</th><th>Column14</th><th>Column15</th><th>Column16</th><th>Column17</th><th>Column18</th><th>Column19</th><th>Column20</th><th>Column21</th><th>Column22</th><th>Column23</th><th>Column24</th><th>Column25</th><th>Column26</th><th>Column27</th><th>Column28</th><th>Column29</th><th>Column30</th><th>Column31</th><th>Column32</th><th>Column33</th><th>Column34</th><th>Column35</th><th>Column36</th><th>Column37</th><th>Column38</th><th>Column39</th><th>Column40</th><th>Column41</th><th>Column42</th><th>Column43</th><th>Column44</th><th>Column45</th><th>Column46</th><th>Column47</th><th>Column48</th><th>Column49</th><th>Column50</th><th>Column51</th><th>Column52</th><th>Column53</th><th>Column54</th><th>Column55</th><th>Column56</th><th>Column57</th><th>Column58</th><th>Column59</th><th>Column60</th><th>Column61</th><th>Column62</th><th>Column63</th><th>Column64</th><th>Column65</th><th>Column66</th><th>Column67</th><th>Column68</th><th>Column69</th><th>Column70</th><th>Column71</th><th>Column72</th><th>Column73</th><th>Column74</th><th>Column75</th><th>Column76</th><th>Column77</th><th>Column78</th><th>Column79</th><th>Column80</th><th>Column81</th><th>Column82</th><th>Column83</th><th>Column84</th><th>Column85</th><th>Column86</th><th>Column87</th><th>Column88</th><th>Column89</th><th>Column90</th><th>Column91</th><th>Column92</th><th>Column93</th><th>Column94</th><th>Column95</th><th>Column96</th><th>Column97</th><th>Column98</th><th>Column99</th><th>Column100</th><th>Column101</th><th>Column102</th><th>Column103</th><th>Column104</th><th>Column105</th><th>Column106</th><th>Column107</th><th>Column108</th><th>Column109</th><th>Column110</th><th>Column111</th><th>Column112</th><th>Column113</th><th>Column114</th><th>Column115</th><th>Column116</th><th>Column117</th><th>Column118</th><th>Column119</th><th>Column120</th><th>Column121</th><th>Column122</th><th>Column123</th><th>Column124</th><th>Column125</th><th>Column126</th><th>Column127</th><th>Column128</th><th>Column129</th><th>Column130</th><th>Column131</th><th>Column132</th><th>Column133</th><th>Column134</th><th>Column135</th><th>Column136</th><th>Column137</th><th>Column138</th><th>Column139</th><th>Column140</th><th>Column141</th><th>Column142</th><th>Column143</th><th>Column144</th><th>Column145</th><th>Column146</th><th>Column147</th><th>Column148</th><th>Column149</th><th>Column150</th><th>Column151</th><th>Column152</th><th>Column153</th><th>Column154</th><th>Column155</th><th>Column156</th><th>Column157</th><th>Column158</th><th>Column159</th><th>Column160</th><th>Column161</th><th>Column162</th><th>Column163</th><th>Column164</th><th>Column165</th><th>Column166</th><th>Column167</th><th>Column168</th><th>Column169</th><th>Column170</th><th>Column171</th><th>Column172</th><th>Column173</th><th>Column174</th><th>Column175</th><th>Column176</th><th>Column177</th><th>Column178</th><th>Column179</th><th>Column180</th><th>Column181</th><th>Column182</th><th>Column183</th><th>Column184</th><th>Column185</th><th>Column186</th><th>Column187</th><th>Column188</th><th>Column189</th><th>Column190</th><th>Column191</th><th>Column192</th><th>Column193</th><th>Column194</th><th>Column195</th><th>Column196</th><th>Column197</th><th>Column198</th><th>Column199</th><th>Column200</th><th>Column201</th></tr><tr><th></th><th>Int64⍰</th><th>Float64⍰</th><th>Float64⍰</th><th>Float64⍰</th><th>Float64⍰</th><th>Float64⍰</th><th>Float64⍰</th><th>Float64⍰</th><th>Float64⍰</th><th>Float64⍰</th><th>Float64⍰</th><th>Float64⍰</th><th>Float64⍰</th><th>Float64⍰</th><th>Float64⍰</th><th>Float64⍰</th><th>Float64⍰</th><th>Float64⍰</th><th>Float64⍰</th><th>Float64⍰</th><th>Float64⍰</th><th>Float64⍰</th><th>Float64⍰</th><th>Float64⍰</th><th>Float64⍰</th><th>Float64⍰</th><th>Float64⍰</th><th>Float64⍰</th><th>Float64⍰</th><th>Float64⍰</th><th>Float64⍰</th><th>Float64⍰</th><th>Float64⍰</th><th>Float64⍰</th><th>Float64⍰</th><th>Float64⍰</th><th>Float64⍰</th><th>Float64⍰</th><th>Float64⍰</th><th>Float64⍰</th><th>Float64⍰</th><th>Float64⍰</th><th>Float64⍰</th><th>Float64⍰</th><th>Float64⍰</th><th>Float64⍰</th><th>Float64⍰</th><th>Float64⍰</th><th>Float64⍰</th><th>Float64⍰</th><th>Float64⍰</th><th>Float64⍰</th><th>Float64⍰</th><th>Float64⍰</th><th>Float64⍰</th><th>Float64⍰</th><th>Float64⍰</th><th>Float64⍰</th><th>Float64⍰</th><th>Float64⍰</th><th>Float64⍰</th><th>Float64⍰</th><th>Float64⍰</th><th>Float64⍰</th><th>Float64⍰</th><th>Float64⍰</th><th>Float64⍰</th><th>Float64⍰</th><th>Float64⍰</th><th>Float64⍰</th><th>Float64⍰</th><th>Float64⍰</th><th>Float64⍰</th><th>Float64⍰</th><th>Float64⍰</th><th>Float64⍰</th><th>Float64⍰</th><th>Float64⍰</th><th>Float64⍰</th><th>Float64⍰</th><th>Float64⍰</th><th>Float64⍰</th><th>Float64⍰</th><th>Float64⍰</th><th>Float64⍰</th><th>Float64⍰</th><th>Float64⍰</th><th>Float64⍰</th><th>Float64⍰</th><th>Float64⍰</th><th>Float64⍰</th><th>Float64⍰</th><th>Float64⍰</th><th>Float64⍰</th><th>Float64⍰</th><th>Float64⍰</th><th>Float64⍰</th><th>Float64⍰</th><th>Float64⍰</th><th>Float64⍰</th><th>Float64⍰</th><th>Float64⍰</th><th>Float64⍰</th><th>Float64⍰</th><th>Float64⍰</th><th>Float64⍰</th><th>Float64⍰</th><th>Float64⍰</th><th>Float64⍰</th><th>Float64⍰</th><th>Float64⍰</th><th>Float64⍰</th><th>Float64⍰</th><th>Float64⍰</th><th>Float64⍰</th><th>Float64⍰</th><th>Float64⍰</th><th>Float64⍰</th><th>Float64⍰</th><th>Float64⍰</th><th>Float64⍰</th><th>Float64⍰</th><th>Float64⍰</th><th>Float64⍰</th><th>Float64⍰</th><th>Float64⍰</th><th>Float64⍰</th><th>Float64⍰</th><th>Float64⍰</th><th>Float64⍰</th><th>Float64⍰</th><th>Float64⍰</th><th>Float64⍰</th><th>Float64⍰</th><th>Float64⍰</th><th>Float64⍰</th><th>Float64⍰</th><th>Float64⍰</th><th>Float64⍰</th><th>Float64⍰</th><th>Float64⍰</th><th>Float64⍰</th><th>Float64⍰</th><th>Float64⍰</th><th>Float64⍰</th><th>Float64⍰</th><th>Float64⍰</th><th>Float64⍰</th><th>Float64⍰</th><th>Float64⍰</th><th>Float64⍰</th><th>Float64⍰</th><th>Float64⍰</th><th>Float64⍰</th><th>Float64⍰</th><th>Float64⍰</th><th>Float64⍰</th><th>Float64⍰</th><th>Float64⍰</th><th>Float64⍰</th><th>Float64⍰</th><th>Float64⍰</th><th>Float64⍰</th><th>Float64⍰</th><th>Float64⍰</th><th>Float64⍰</th><th>Float64⍰</th><th>Float64⍰</th><th>Float64⍰</th><th>Float64⍰</th><th>Float64⍰</th><th>Float64⍰</th><th>Float64⍰</th><th>Float64⍰</th><th>Float64⍰</th><th>Float64⍰</th><th>Float64⍰</th><th>Float64⍰</th><th>Float64⍰</th><th>Float64⍰</th><th>Float64⍰</th><th>Float64⍰</th><th>Float64⍰</th><th>Float64⍰</th><th>Float64⍰</th><th>Float64⍰</th><th>Float64⍰</th><th>Float64⍰</th><th>Float64⍰</th><th>Float64⍰</th><th>Float64⍰</th><th>Float64⍰</th><th>Float64⍰</th><th>Float64⍰</th><th>Float64⍰</th><th>Float64⍰</th><th>Float64⍰</th><th>Float64⍰</th><th>Float64⍰</th><th>Float64⍰</th><th>Float64⍰</th></tr></thead><tbody><p>3 rows × 201 columns</p><tr><th>1</th><td>1</td><td>0.808874</td><td>0.0262689</td><td>0.0222177</td><td>0.015871</td><td>0.0128175</td><td>0.0104919</td><td>0.00962279</td><td>0.00881732</td><td>0.00835705</td><td>0.0080237</td><td>0.00758001</td><td>0.00727214</td><td>0.00676085</td><td>0.00669725</td><td>0.00631513</td><td>0.0057416</td><td>0.00562775</td><td>0.00539497</td><td>0.00510166</td><td>0.00492374</td><td>0.00467361</td><td>0.00458811</td><td>0.0044562</td><td>0.00411901</td><td>0.00403369</td><td>0.00376357</td><td>0.00372016</td><td>0.00352432</td><td>0.00341907</td><td>0.00333317</td><td>0.00327488</td><td>0.00317714</td><td>0.00311201</td><td>0.00302701</td><td>0.00295915</td><td>0.00279215</td><td>0.00273365</td><td>0.00262662</td><td>0.00250085</td><td>0.00245776</td><td>0.00239391</td><td>0.00233999</td><td>0.00232316</td><td>0.00223765</td><td>0.00218995</td><td>0.00211919</td><td>0.00211193</td><td>0.00200817</td><td>0.0019619</td><td>0.00184026</td><td>0.00180769</td><td>0.00178557</td><td>0.00175334</td><td>0.00169991</td><td>0.00169088</td><td>0.00163803</td><td>0.0015943</td><td>0.00153768</td><td>0.00152212</td><td>0.00149889</td><td>0.00145391</td><td>0.00143926</td><td>0.00139877</td><td>0.00135952</td><td>0.00133242</td><td>0.0012918</td><td>0.00126177</td><td>0.00124307</td><td>0.00123211</td><td>0.00120788</td><td>0.00118831</td><td>0.00117347</td><td>0.00114757</td><td>0.00113802</td><td>0.00110961</td><td>0.0010877</td><td>0.00108184</td><td>0.00106914</td><td>0.00105878</td><td>0.00103426</td><td>0.00102583</td><td>0.00101332</td><td>0.000995738</td><td>0.000981119</td><td>0.000973727</td><td>0.000964358</td><td>0.00093103</td><td>0.000921593</td><td>0.000911227</td><td>0.000898586</td><td>0.000882344</td><td>0.00087499</td><td>0.000857851</td><td>0.000853504</td><td>0.000843747</td><td>0.000827879</td><td>0.000814532</td><td>0.000805082</td><td>0.000794853</td><td>0.000792445</td><td>0.000781586</td><td>0.000768622</td><td>0.00076274</td><td>0.000749933</td><td>0.000746637</td><td>0.000735439</td><td>0.000719299</td><td>0.000709899</td><td>0.000702808</td><td>0.000695226</td><td>0.000687649</td><td>0.000676885</td><td>0.000666398</td><td>0.000653437</td><td>0.000650597</td><td>0.000632447</td><td>0.000622821</td><td>0.000615837</td><td>0.000607935</td><td>0.0006058</td><td>0.000589646</td><td>0.000579261</td><td>0.000576794</td><td>0.000568651</td><td>0.000558026</td><td>0.000553001</td><td>0.000536124</td><td>0.000522128</td><td>0.000516923</td><td>0.000512987</td><td>0.000501645</td><td>0.000500552</td><td>0.000486727</td><td>0.000479356</td><td>0.000470761</td><td>0.000465923</td><td>0.000460079</td><td>0.000454962</td><td>0.000448258</td><td>0.000442563</td><td>0.000438439</td><td>0.000418218</td><td>0.000414142</td><td>0.000408352</td><td>0.000395054</td><td>0.00039257</td><td>0.000381241</td><td>0.000372422</td><td>0.000366253</td><td>0.00035941</td><td>0.000353958</td><td>0.000346637</td><td>0.000345367</td><td>0.000336108</td><td>0.000328724</td><td>0.000324475</td><td>0.000314068</td><td>0.000307415</td><td>0.000297386</td><td>0.000287528</td><td>0.000279277</td><td>0.000276</td><td>0.000268415</td><td>0.000265716</td><td>0.000257476</td><td>0.000246384</td><td>0.000239752</td><td>0.00023236</td><td>0.000225166</td><td>0.000215825</td><td>0.000207334</td><td>0.000205636</td><td>0.000194002</td><td>0.000189626</td><td>0.000181548</td><td>0.000175082</td><td>0.000167276</td><td>0.000154541</td><td>0.000152993</td><td>0.000146815</td><td>0.000134438</td><td>0.000129453</td><td>0.000122154</td><td>0.000113874</td><td>0.000109172</td><td>0.000101771</td><td>9.86451e-5</td><td>9.46115e-5</td><td>8.18943e-5</td><td>7.41208e-5</td><td>6.04935e-5</td><td>5.42601e-5</td><td>5.01811e-5</td><td>3.68342e-5</td><td>3.12112e-5</td><td>2.70286e-5</td><td>2.19542e-5</td><td>1.32832e-5</td><td>8.56768e-6</td><td>3.34723e-16</td></tr><tr><th>2</th><td>1</td><td>0.80676</td><td>0.0262953</td><td>0.0222041</td><td>0.0158941</td><td>0.0127922</td><td>0.0105421</td><td>0.00969221</td><td>0.00881356</td><td>0.00841107</td><td>0.00810439</td><td>0.00760108</td><td>0.00734546</td><td>0.00677107</td><td>0.00675101</td><td>0.00636759</td><td>0.00582477</td><td>0.00571942</td><td>0.00541395</td><td>0.00510291</td><td>0.00505469</td><td>0.0047151</td><td>0.00464597</td><td>0.0044307</td><td>0.00412368</td><td>0.0040824</td><td>0.00382488</td><td>0.00380299</td><td>0.00364544</td><td>0.00351393</td><td>0.00347384</td><td>0.00331484</td><td>0.00329349</td><td>0.00315131</td><td>0.00304558</td><td>0.00299753</td><td>0.00290155</td><td>0.00274079</td><td>0.00267931</td><td>0.00257112</td><td>0.00250099</td><td>0.00245871</td><td>0.00243251</td><td>0.00240283</td><td>0.00236903</td><td>0.00228463</td><td>0.00226559</td><td>0.00222338</td><td>0.00214203</td><td>0.00202303</td><td>0.00195544</td><td>0.00191769</td><td>0.00188901</td><td>0.00183587</td><td>0.00180367</td><td>0.00175034</td><td>0.00172126</td><td>0.00168164</td><td>0.00167852</td><td>0.00163577</td><td>0.00161054</td><td>0.00156438</td><td>0.00152477</td><td>0.00150008</td><td>0.0014621</td><td>0.00142574</td><td>0.00141673</td><td>0.00141024</td><td>0.00139897</td><td>0.00137092</td><td>0.00136351</td><td>0.0013112</td><td>0.0013001</td><td>0.00128757</td><td>0.00127235</td><td>0.00125095</td><td>0.00122406</td><td>0.00121801</td><td>0.00120364</td><td>0.00117285</td><td>0.00116699</td><td>0.00115044</td><td>0.00112832</td><td>0.00110937</td><td>0.00110566</td><td>0.00109764</td><td>0.00108199</td><td>0.00106635</td><td>0.00104863</td><td>0.00103224</td><td>0.00102371</td><td>0.0010032</td><td>0.000996739</td><td>0.000975397</td><td>0.000967171</td><td>0.000959032</td><td>0.000953095</td><td>0.000942349</td><td>0.000930635</td><td>0.000920869</td><td>0.00090133</td><td>0.000896978</td><td>0.000894598</td><td>0.000880396</td><td>0.000872125</td><td>0.00085948</td><td>0.000832897</td><td>0.000819051</td><td>0.00081429</td><td>0.000801167</td><td>0.000787146</td><td>0.000773712</td><td>0.000768068</td><td>0.000753203</td><td>0.000747884</td><td>0.000729765</td><td>0.000720638</td><td>0.00070948</td><td>0.000698283</td><td>0.000686971</td><td>0.00067755</td><td>0.000669678</td><td>0.000657507</td><td>0.000653704</td><td>0.000650161</td><td>0.000634561</td><td>0.000621574</td><td>0.000616683</td><td>0.000601457</td><td>0.000599474</td><td>0.000588789</td><td>0.000579267</td><td>0.000575026</td><td>0.00056145</td><td>0.000555288</td><td>0.000545565</td><td>0.000538528</td><td>0.000534372</td><td>0.000516842</td><td>0.000503197</td><td>0.000501787</td><td>0.000493489</td><td>0.000483623</td><td>0.000473119</td><td>0.000465985</td><td>0.000457161</td><td>0.000452186</td><td>0.000438557</td><td>0.00043179</td><td>0.000413808</td><td>0.000411394</td><td>0.000401347</td><td>0.000389714</td><td>0.000387532</td><td>0.000382762</td><td>0.000371169</td><td>0.000359916</td><td>0.000344023</td><td>0.00033895</td><td>0.000335652</td><td>0.000327731</td><td>0.000318104</td><td>0.000313236</td><td>0.000303861</td><td>0.000300219</td><td>0.000289124</td><td>0.000277847</td><td>0.000272705</td><td>0.000259657</td><td>0.000257659</td><td>0.000244408</td><td>0.000235799</td><td>0.000233796</td><td>0.000224791</td><td>0.000217713</td><td>0.000209777</td><td>0.000205733</td><td>0.000182659</td><td>0.000176472</td><td>0.000168698</td><td>0.000164122</td><td>0.000155</td><td>0.000152139</td><td>0.000140926</td><td>0.000132523</td><td>0.000126833</td><td>0.000119164</td><td>0.000111864</td><td>0.000105878</td><td>9.48576e-5</td><td>7.98109e-5</td><td>7.73623e-5</td><td>7.41885e-5</td><td>5.6716e-5</td><td>4.95331e-5</td><td>3.81919e-5</td><td>3.02685e-5</td><td>2.70465e-5</td><td>1.70699e-5</td><td>5.12223e-6</td><td>3.56071e-16</td></tr><tr><th>3</th><td>1</td><td>0.807331</td><td>0.0263052</td><td>0.0221939</td><td>0.0158928</td><td>0.0127759</td><td>0.0105101</td><td>0.00968609</td><td>0.00880019</td><td>0.00840173</td><td>0.00811182</td><td>0.00758082</td><td>0.00732866</td><td>0.00674685</td><td>0.00673595</td><td>0.006333</td><td>0.00578979</td><td>0.00565363</td><td>0.00542915</td><td>0.00511595</td><td>0.00502522</td><td>0.00471015</td><td>0.00461919</td><td>0.00444955</td><td>0.0041211</td><td>0.00403815</td><td>0.00381949</td><td>0.00377056</td><td>0.00362476</td><td>0.00350155</td><td>0.00346135</td><td>0.00327497</td><td>0.00324535</td><td>0.00316724</td><td>0.00304591</td><td>0.00301511</td><td>0.0028909</td><td>0.00275173</td><td>0.00267926</td><td>0.00256708</td><td>0.00248813</td><td>0.00243586</td><td>0.0024036</td><td>0.00236195</td><td>0.0023366</td><td>0.00229057</td><td>0.00221797</td><td>0.00219524</td><td>0.00208356</td><td>0.00198746</td><td>0.00191799</td><td>0.00189578</td><td>0.00186778</td><td>0.00182911</td><td>0.00177885</td><td>0.00173625</td><td>0.00171449</td><td>0.00163786</td><td>0.00162034</td><td>0.00160381</td><td>0.00157019</td><td>0.00152319</td><td>0.00148884</td><td>0.00146513</td><td>0.00144784</td><td>0.00139542</td><td>0.0013833</td><td>0.00137531</td><td>0.00137308</td><td>0.00133201</td><td>0.00132221</td><td>0.0012952</td><td>0.00128463</td><td>0.00126295</td><td>0.00123085</td><td>0.00122365</td><td>0.00119738</td><td>0.00115881</td><td>0.00115457</td><td>0.00113684</td><td>0.00112568</td><td>0.00111628</td><td>0.00110321</td><td>0.00108389</td><td>0.00107225</td><td>0.00106329</td><td>0.00106231</td><td>0.00104143</td><td>0.00102151</td><td>0.00100764</td><td>0.000995595</td><td>0.000983108</td><td>0.00097488</td><td>0.000947221</td><td>0.000938815</td><td>0.000931742</td><td>0.000924393</td><td>0.000905269</td><td>0.00090282</td><td>0.000877545</td><td>0.000873723</td><td>0.000862564</td><td>0.000853172</td><td>0.000843889</td><td>0.000838176</td><td>0.000823234</td><td>0.000811308</td><td>0.000800923</td><td>0.000798805</td><td>0.000786434</td><td>0.000764882</td><td>0.000758258</td><td>0.000756476</td><td>0.000741337</td><td>0.000732146</td><td>0.000724425</td><td>0.000713187</td><td>0.000699613</td><td>0.00067544</td><td>0.000672832</td><td>0.000662072</td><td>0.000651326</td><td>0.000647763</td><td>0.000638726</td><td>0.00063364</td><td>0.000623233</td><td>0.000611435</td><td>0.000596418</td><td>0.0005854</td><td>0.000571549</td><td>0.000562461</td><td>0.000552741</td><td>0.000543569</td><td>0.00054101</td><td>0.000536147</td><td>0.000531107</td><td>0.000511479</td><td>0.000506157</td><td>0.000499968</td><td>0.000493481</td><td>0.000483328</td><td>0.000478148</td><td>0.000469191</td><td>0.000461115</td><td>0.000450092</td><td>0.000449106</td><td>0.000431464</td><td>0.000417096</td><td>0.000410905</td><td>0.000408956</td><td>0.000401519</td><td>0.000386354</td><td>0.000382967</td><td>0.000374874</td><td>0.000374176</td><td>0.00035772</td><td>0.000352459</td><td>0.000341769</td><td>0.000338424</td><td>0.000327381</td><td>0.000319202</td><td>0.000314952</td><td>0.00030316</td><td>0.000298075</td><td>0.000286414</td><td>0.00028264</td><td>0.000278678</td><td>0.000273698</td><td>0.000262484</td><td>0.00025639</td><td>0.00024686</td><td>0.00023204</td><td>0.000229787</td><td>0.000225948</td><td>0.000219859</td><td>0.000208468</td><td>0.000198812</td><td>0.000178384</td><td>0.000175095</td><td>0.000168661</td><td>0.000158476</td><td>0.000151987</td><td>0.000139428</td><td>0.000134835</td><td>0.000131748</td><td>0.00012332</td><td>0.000112354</td><td>0.000107134</td><td>9.44475e-5</td><td>8.85095e-5</td><td>8.49721e-5</td><td>7.36481e-5</td><td>6.39981e-5</td><td>5.58528e-5</td><td>4.52237e-5</td><td>3.86871e-5</td><td>2.70101e-5</td><td>1.695e-5</td><td>1.37046e-5</td><td>6.3018e-6</td><td>3.41281e-16</td></tr></tbody></table>"
      ],
      "text/latex": [
       "\\begin{tabular}{r|ccccccccccccccccccccccccccccccccccccccccccccccccccccccccccccccccccccccccccccccccccccccccccccccccccccccccccccccccccccccccccccccccccccccccccccccccccccccccccccccccccccccccccccccccccccccccccccccccccccccccc}\n",
       "\t& Column1 & Column2 & Column3 & Column4 & Column5 & Column6 & Column7 & Column8 & Column9 & Column10 & Column11 & Column12 & Column13 & Column14 & Column15 & Column16 & Column17 & Column18 & Column19 & Column20 & Column21 & Column22 & Column23 & Column24 & Column25 & Column26 & Column27 & Column28 & Column29 & Column30 & Column31 & Column32 & Column33 & Column34 & Column35 & Column36 & Column37 & Column38 & Column39 & Column40 & Column41 & Column42 & Column43 & Column44 & Column45 & Column46 & Column47 & Column48 & Column49 & Column50 & Column51 & Column52 & Column53 & Column54 & Column55 & Column56 & Column57 & Column58 & Column59 & Column60 & Column61 & Column62 & Column63 & Column64 & Column65 & Column66 & Column67 & Column68 & Column69 & Column70 & Column71 & Column72 & Column73 & Column74 & Column75 & Column76 & Column77 & Column78 & Column79 & Column80 & Column81 & Column82 & Column83 & Column84 & Column85 & Column86 & Column87 & Column88 & Column89 & Column90 & Column91 & Column92 & Column93 & Column94 & Column95 & Column96 & Column97 & Column98 & Column99 & Column100 & Column101 & Column102 & Column103 & Column104 & Column105 & Column106 & Column107 & Column108 & Column109 & Column110 & Column111 & Column112 & Column113 & Column114 & Column115 & Column116 & Column117 & Column118 & Column119 & Column120 & Column121 & Column122 & Column123 & Column124 & Column125 & Column126 & Column127 & Column128 & Column129 & Column130 & Column131 & Column132 & Column133 & Column134 & Column135 & Column136 & Column137 & Column138 & Column139 & Column140 & Column141 & Column142 & Column143 & Column144 & Column145 & Column146 & Column147 & Column148 & Column149 & Column150 & Column151 & Column152 & Column153 & Column154 & Column155 & Column156 & Column157 & Column158 & Column159 & Column160 & Column161 & Column162 & Column163 & Column164 & Column165 & Column166 & Column167 & Column168 & Column169 & Column170 & Column171 & Column172 & Column173 & Column174 & Column175 & Column176 & Column177 & Column178 & Column179 & Column180 & Column181 & Column182 & Column183 & Column184 & Column185 & Column186 & Column187 & Column188 & Column189 & Column190 & Column191 & Column192 & Column193 & Column194 & Column195 & Column196 & Column197 & Column198 & Column199 & Column200 & Column201\\\\\n",
       "\t\\hline\n",
       "\t& Int64⍰ & Float64⍰ & Float64⍰ & Float64⍰ & Float64⍰ & Float64⍰ & Float64⍰ & Float64⍰ & Float64⍰ & Float64⍰ & Float64⍰ & Float64⍰ & Float64⍰ & Float64⍰ & Float64⍰ & Float64⍰ & Float64⍰ & Float64⍰ & Float64⍰ & Float64⍰ & Float64⍰ & Float64⍰ & Float64⍰ & Float64⍰ & Float64⍰ & Float64⍰ & Float64⍰ & Float64⍰ & Float64⍰ & Float64⍰ & Float64⍰ & Float64⍰ & Float64⍰ & Float64⍰ & Float64⍰ & Float64⍰ & Float64⍰ & Float64⍰ & Float64⍰ & Float64⍰ & Float64⍰ & Float64⍰ & Float64⍰ & Float64⍰ & Float64⍰ & Float64⍰ & Float64⍰ & Float64⍰ & Float64⍰ & Float64⍰ & Float64⍰ & Float64⍰ & Float64⍰ & Float64⍰ & Float64⍰ & Float64⍰ & Float64⍰ & Float64⍰ & Float64⍰ & Float64⍰ & Float64⍰ & Float64⍰ & Float64⍰ & Float64⍰ & Float64⍰ & Float64⍰ & Float64⍰ & Float64⍰ & Float64⍰ & Float64⍰ & Float64⍰ & Float64⍰ & Float64⍰ & Float64⍰ & Float64⍰ & Float64⍰ & Float64⍰ & Float64⍰ & Float64⍰ & Float64⍰ & Float64⍰ & Float64⍰ & Float64⍰ & Float64⍰ & Float64⍰ & Float64⍰ & Float64⍰ & Float64⍰ & Float64⍰ & Float64⍰ & Float64⍰ & Float64⍰ & Float64⍰ & Float64⍰ & Float64⍰ & Float64⍰ & Float64⍰ & Float64⍰ & Float64⍰ & Float64⍰ & Float64⍰ & Float64⍰ & Float64⍰ & Float64⍰ & Float64⍰ & Float64⍰ & Float64⍰ & Float64⍰ & Float64⍰ & Float64⍰ & Float64⍰ & Float64⍰ & Float64⍰ & Float64⍰ & Float64⍰ & Float64⍰ & Float64⍰ & Float64⍰ & Float64⍰ & Float64⍰ & Float64⍰ & Float64⍰ & Float64⍰ & Float64⍰ & Float64⍰ & Float64⍰ & Float64⍰ & Float64⍰ & Float64⍰ & Float64⍰ & Float64⍰ & Float64⍰ & Float64⍰ & Float64⍰ & Float64⍰ & Float64⍰ & Float64⍰ & Float64⍰ & Float64⍰ & Float64⍰ & Float64⍰ & Float64⍰ & Float64⍰ & Float64⍰ & Float64⍰ & Float64⍰ & Float64⍰ & Float64⍰ & Float64⍰ & Float64⍰ & Float64⍰ & Float64⍰ & Float64⍰ & Float64⍰ & Float64⍰ & Float64⍰ & Float64⍰ & Float64⍰ & Float64⍰ & Float64⍰ & Float64⍰ & Float64⍰ & Float64⍰ & Float64⍰ & Float64⍰ & Float64⍰ & Float64⍰ & Float64⍰ & Float64⍰ & Float64⍰ & Float64⍰ & Float64⍰ & Float64⍰ & Float64⍰ & Float64⍰ & Float64⍰ & Float64⍰ & Float64⍰ & Float64⍰ & Float64⍰ & Float64⍰ & Float64⍰ & Float64⍰ & Float64⍰ & Float64⍰ & Float64⍰ & Float64⍰ & Float64⍰ & Float64⍰ & Float64⍰ & Float64⍰ & Float64⍰ & Float64⍰ & Float64⍰ & Float64⍰ & Float64⍰ & Float64⍰ & Float64⍰ & Float64⍰ & Float64⍰ & Float64⍰\\\\\n",
       "\t\\hline\n",
       "\t1 & 1 & 0.808874 & 0.0262689 & 0.0222177 & 0.015871 & 0.0128175 & 0.0104919 & 0.00962279 & 0.00881732 & 0.00835705 & 0.0080237 & 0.00758001 & 0.00727214 & 0.00676085 & 0.00669725 & 0.00631513 & 0.0057416 & 0.00562775 & 0.00539497 & 0.00510166 & 0.00492374 & 0.00467361 & 0.00458811 & 0.0044562 & 0.00411901 & 0.00403369 & 0.00376357 & 0.00372016 & 0.00352432 & 0.00341907 & 0.00333317 & 0.00327488 & 0.00317714 & 0.00311201 & 0.00302701 & 0.00295915 & 0.00279215 & 0.00273365 & 0.00262662 & 0.00250085 & 0.00245776 & 0.00239391 & 0.00233999 & 0.00232316 & 0.00223765 & 0.00218995 & 0.00211919 & 0.00211193 & 0.00200817 & 0.0019619 & 0.00184026 & 0.00180769 & 0.00178557 & 0.00175334 & 0.00169991 & 0.00169088 & 0.00163803 & 0.0015943 & 0.00153768 & 0.00152212 & 0.00149889 & 0.00145391 & 0.00143926 & 0.00139877 & 0.00135952 & 0.00133242 & 0.0012918 & 0.00126177 & 0.00124307 & 0.00123211 & 0.00120788 & 0.00118831 & 0.00117347 & 0.00114757 & 0.00113802 & 0.00110961 & 0.0010877 & 0.00108184 & 0.00106914 & 0.00105878 & 0.00103426 & 0.00102583 & 0.00101332 & 0.000995738 & 0.000981119 & 0.000973727 & 0.000964358 & 0.00093103 & 0.000921593 & 0.000911227 & 0.000898586 & 0.000882344 & 0.00087499 & 0.000857851 & 0.000853504 & 0.000843747 & 0.000827879 & 0.000814532 & 0.000805082 & 0.000794853 & 0.000792445 & 0.000781586 & 0.000768622 & 0.00076274 & 0.000749933 & 0.000746637 & 0.000735439 & 0.000719299 & 0.000709899 & 0.000702808 & 0.000695226 & 0.000687649 & 0.000676885 & 0.000666398 & 0.000653437 & 0.000650597 & 0.000632447 & 0.000622821 & 0.000615837 & 0.000607935 & 0.0006058 & 0.000589646 & 0.000579261 & 0.000576794 & 0.000568651 & 0.000558026 & 0.000553001 & 0.000536124 & 0.000522128 & 0.000516923 & 0.000512987 & 0.000501645 & 0.000500552 & 0.000486727 & 0.000479356 & 0.000470761 & 0.000465923 & 0.000460079 & 0.000454962 & 0.000448258 & 0.000442563 & 0.000438439 & 0.000418218 & 0.000414142 & 0.000408352 & 0.000395054 & 0.00039257 & 0.000381241 & 0.000372422 & 0.000366253 & 0.00035941 & 0.000353958 & 0.000346637 & 0.000345367 & 0.000336108 & 0.000328724 & 0.000324475 & 0.000314068 & 0.000307415 & 0.000297386 & 0.000287528 & 0.000279277 & 0.000276 & 0.000268415 & 0.000265716 & 0.000257476 & 0.000246384 & 0.000239752 & 0.00023236 & 0.000225166 & 0.000215825 & 0.000207334 & 0.000205636 & 0.000194002 & 0.000189626 & 0.000181548 & 0.000175082 & 0.000167276 & 0.000154541 & 0.000152993 & 0.000146815 & 0.000134438 & 0.000129453 & 0.000122154 & 0.000113874 & 0.000109172 & 0.000101771 & 9.86451e-5 & 9.46115e-5 & 8.18943e-5 & 7.41208e-5 & 6.04935e-5 & 5.42601e-5 & 5.01811e-5 & 3.68342e-5 & 3.12112e-5 & 2.70286e-5 & 2.19542e-5 & 1.32832e-5 & 8.56768e-6 & 3.34723e-16 \\\\\n",
       "\t2 & 1 & 0.80676 & 0.0262953 & 0.0222041 & 0.0158941 & 0.0127922 & 0.0105421 & 0.00969221 & 0.00881356 & 0.00841107 & 0.00810439 & 0.00760108 & 0.00734546 & 0.00677107 & 0.00675101 & 0.00636759 & 0.00582477 & 0.00571942 & 0.00541395 & 0.00510291 & 0.00505469 & 0.0047151 & 0.00464597 & 0.0044307 & 0.00412368 & 0.0040824 & 0.00382488 & 0.00380299 & 0.00364544 & 0.00351393 & 0.00347384 & 0.00331484 & 0.00329349 & 0.00315131 & 0.00304558 & 0.00299753 & 0.00290155 & 0.00274079 & 0.00267931 & 0.00257112 & 0.00250099 & 0.00245871 & 0.00243251 & 0.00240283 & 0.00236903 & 0.00228463 & 0.00226559 & 0.00222338 & 0.00214203 & 0.00202303 & 0.00195544 & 0.00191769 & 0.00188901 & 0.00183587 & 0.00180367 & 0.00175034 & 0.00172126 & 0.00168164 & 0.00167852 & 0.00163577 & 0.00161054 & 0.00156438 & 0.00152477 & 0.00150008 & 0.0014621 & 0.00142574 & 0.00141673 & 0.00141024 & 0.00139897 & 0.00137092 & 0.00136351 & 0.0013112 & 0.0013001 & 0.00128757 & 0.00127235 & 0.00125095 & 0.00122406 & 0.00121801 & 0.00120364 & 0.00117285 & 0.00116699 & 0.00115044 & 0.00112832 & 0.00110937 & 0.00110566 & 0.00109764 & 0.00108199 & 0.00106635 & 0.00104863 & 0.00103224 & 0.00102371 & 0.0010032 & 0.000996739 & 0.000975397 & 0.000967171 & 0.000959032 & 0.000953095 & 0.000942349 & 0.000930635 & 0.000920869 & 0.00090133 & 0.000896978 & 0.000894598 & 0.000880396 & 0.000872125 & 0.00085948 & 0.000832897 & 0.000819051 & 0.00081429 & 0.000801167 & 0.000787146 & 0.000773712 & 0.000768068 & 0.000753203 & 0.000747884 & 0.000729765 & 0.000720638 & 0.00070948 & 0.000698283 & 0.000686971 & 0.00067755 & 0.000669678 & 0.000657507 & 0.000653704 & 0.000650161 & 0.000634561 & 0.000621574 & 0.000616683 & 0.000601457 & 0.000599474 & 0.000588789 & 0.000579267 & 0.000575026 & 0.00056145 & 0.000555288 & 0.000545565 & 0.000538528 & 0.000534372 & 0.000516842 & 0.000503197 & 0.000501787 & 0.000493489 & 0.000483623 & 0.000473119 & 0.000465985 & 0.000457161 & 0.000452186 & 0.000438557 & 0.00043179 & 0.000413808 & 0.000411394 & 0.000401347 & 0.000389714 & 0.000387532 & 0.000382762 & 0.000371169 & 0.000359916 & 0.000344023 & 0.00033895 & 0.000335652 & 0.000327731 & 0.000318104 & 0.000313236 & 0.000303861 & 0.000300219 & 0.000289124 & 0.000277847 & 0.000272705 & 0.000259657 & 0.000257659 & 0.000244408 & 0.000235799 & 0.000233796 & 0.000224791 & 0.000217713 & 0.000209777 & 0.000205733 & 0.000182659 & 0.000176472 & 0.000168698 & 0.000164122 & 0.000155 & 0.000152139 & 0.000140926 & 0.000132523 & 0.000126833 & 0.000119164 & 0.000111864 & 0.000105878 & 9.48576e-5 & 7.98109e-5 & 7.73623e-5 & 7.41885e-5 & 5.6716e-5 & 4.95331e-5 & 3.81919e-5 & 3.02685e-5 & 2.70465e-5 & 1.70699e-5 & 5.12223e-6 & 3.56071e-16 \\\\\n",
       "\t3 & 1 & 0.807331 & 0.0263052 & 0.0221939 & 0.0158928 & 0.0127759 & 0.0105101 & 0.00968609 & 0.00880019 & 0.00840173 & 0.00811182 & 0.00758082 & 0.00732866 & 0.00674685 & 0.00673595 & 0.006333 & 0.00578979 & 0.00565363 & 0.00542915 & 0.00511595 & 0.00502522 & 0.00471015 & 0.00461919 & 0.00444955 & 0.0041211 & 0.00403815 & 0.00381949 & 0.00377056 & 0.00362476 & 0.00350155 & 0.00346135 & 0.00327497 & 0.00324535 & 0.00316724 & 0.00304591 & 0.00301511 & 0.0028909 & 0.00275173 & 0.00267926 & 0.00256708 & 0.00248813 & 0.00243586 & 0.0024036 & 0.00236195 & 0.0023366 & 0.00229057 & 0.00221797 & 0.00219524 & 0.00208356 & 0.00198746 & 0.00191799 & 0.00189578 & 0.00186778 & 0.00182911 & 0.00177885 & 0.00173625 & 0.00171449 & 0.00163786 & 0.00162034 & 0.00160381 & 0.00157019 & 0.00152319 & 0.00148884 & 0.00146513 & 0.00144784 & 0.00139542 & 0.0013833 & 0.00137531 & 0.00137308 & 0.00133201 & 0.00132221 & 0.0012952 & 0.00128463 & 0.00126295 & 0.00123085 & 0.00122365 & 0.00119738 & 0.00115881 & 0.00115457 & 0.00113684 & 0.00112568 & 0.00111628 & 0.00110321 & 0.00108389 & 0.00107225 & 0.00106329 & 0.00106231 & 0.00104143 & 0.00102151 & 0.00100764 & 0.000995595 & 0.000983108 & 0.00097488 & 0.000947221 & 0.000938815 & 0.000931742 & 0.000924393 & 0.000905269 & 0.00090282 & 0.000877545 & 0.000873723 & 0.000862564 & 0.000853172 & 0.000843889 & 0.000838176 & 0.000823234 & 0.000811308 & 0.000800923 & 0.000798805 & 0.000786434 & 0.000764882 & 0.000758258 & 0.000756476 & 0.000741337 & 0.000732146 & 0.000724425 & 0.000713187 & 0.000699613 & 0.00067544 & 0.000672832 & 0.000662072 & 0.000651326 & 0.000647763 & 0.000638726 & 0.00063364 & 0.000623233 & 0.000611435 & 0.000596418 & 0.0005854 & 0.000571549 & 0.000562461 & 0.000552741 & 0.000543569 & 0.00054101 & 0.000536147 & 0.000531107 & 0.000511479 & 0.000506157 & 0.000499968 & 0.000493481 & 0.000483328 & 0.000478148 & 0.000469191 & 0.000461115 & 0.000450092 & 0.000449106 & 0.000431464 & 0.000417096 & 0.000410905 & 0.000408956 & 0.000401519 & 0.000386354 & 0.000382967 & 0.000374874 & 0.000374176 & 0.00035772 & 0.000352459 & 0.000341769 & 0.000338424 & 0.000327381 & 0.000319202 & 0.000314952 & 0.00030316 & 0.000298075 & 0.000286414 & 0.00028264 & 0.000278678 & 0.000273698 & 0.000262484 & 0.00025639 & 0.00024686 & 0.00023204 & 0.000229787 & 0.000225948 & 0.000219859 & 0.000208468 & 0.000198812 & 0.000178384 & 0.000175095 & 0.000168661 & 0.000158476 & 0.000151987 & 0.000139428 & 0.000134835 & 0.000131748 & 0.00012332 & 0.000112354 & 0.000107134 & 9.44475e-5 & 8.85095e-5 & 8.49721e-5 & 7.36481e-5 & 6.39981e-5 & 5.58528e-5 & 4.52237e-5 & 3.86871e-5 & 2.70101e-5 & 1.695e-5 & 1.37046e-5 & 6.3018e-6 & 3.41281e-16 \\\\\n",
       "\\end{tabular}\n"
      ],
      "text/plain": [
       "3×201 DataFrame. Omitted printing of 195 columns\n",
       "│ Row │ Column1 │ Column2  │ Column3   │ Column4   │ Column5   │ Column6   │\n",
       "│     │ \u001b[90mInt64⍰\u001b[39m  │ \u001b[90mFloat64⍰\u001b[39m │ \u001b[90mFloat64⍰\u001b[39m  │ \u001b[90mFloat64⍰\u001b[39m  │ \u001b[90mFloat64⍰\u001b[39m  │ \u001b[90mFloat64⍰\u001b[39m  │\n",
       "├─────┼─────────┼──────────┼───────────┼───────────┼───────────┼───────────┤\n",
       "│ 1   │ 1       │ 0.808874 │ 0.0262689 │ 0.0222177 │ 0.015871  │ 0.0128175 │\n",
       "│ 2   │ 1       │ 0.80676  │ 0.0262953 │ 0.0222041 │ 0.0158941 │ 0.0127922 │\n",
       "│ 3   │ 1       │ 0.807331 │ 0.0263052 │ 0.0221939 │ 0.0158928 │ 0.0127759 │"
      ]
     },
     "execution_count": 7,
     "metadata": {},
     "output_type": "execute_result"
    }
   ],
   "source": [
    "dataset_train = CSV.read(\"$data_filename.train\", nastrings=[\"NA\", \"na\", \"n/a\", \"missing\"], delim=';', header=0)\n",
    "dataset_test = CSV.read(\"$data_filename.test\", nastrings=[\"NA\", \"na\", \"n/a\", \"missing\"], delim=';', header=0)\n",
    "first(dataset_train, 3)"
   ]
  },
  {
   "cell_type": "code",
   "execution_count": 8,
   "metadata": {},
   "outputs": [
    {
     "name": "stdout",
     "output_type": "stream",
     "text": [
      "Split datasets done.."
     ]
    }
   ],
   "source": [
    "nb_columns = size(dataset_train, 2)\n",
    "train_labels = dataset_train[1]\n",
    "train_data = dataset_train[2:nb_columns]\n",
    "print(\"Split datasets done..\")"
   ]
  },
  {
   "cell_type": "code",
   "execution_count": 9,
   "metadata": {},
   "outputs": [
    {
     "data": {
      "text/plain": [
       "597"
      ]
     },
     "execution_count": 9,
     "metadata": {},
     "output_type": "execute_result"
    }
   ],
   "source": [
    "noisy_df_train = filter(row -> row[1] == 1, dataset_train)\n",
    "not_noisy_df_train = filter(row -> row[1] == 0, dataset_train)\n",
    "nb_noisy_train = size(noisy_df_train, 1)"
   ]
  },
  {
   "cell_type": "code",
   "execution_count": 10,
   "metadata": {},
   "outputs": [
    {
     "data": {
      "text/plain": [
       "357"
      ]
     },
     "execution_count": 10,
     "metadata": {},
     "output_type": "execute_result"
    }
   ],
   "source": [
    "noisy_df_test = filter(row -> row[1] == 1, dataset_test)\n",
    "not_noisy_df_test = filter(row -> row[1] == 0, dataset_test)\n",
    "nb_noisy_test = size(noisy_df_test, 1)"
   ]
  },
  {
   "cell_type": "code",
   "execution_count": 11,
   "metadata": {},
   "outputs": [
    {
     "name": "stdout",
     "output_type": "stream",
     "text": [
      "All datasets filled"
     ]
    }
   ],
   "source": [
    "#final_df_train = join(not_noisy_df_train[1:nb_noisy_train, :], noisy_df_train, kind=:outer, makeunique=true)\n",
    "final_df_train = append!(noisy_df_train, not_noisy_df_train[1:nb_noisy_train, :])\n",
    "final_df_test = append!(noisy_df_test, not_noisy_df_test[1:nb_noisy_test, :])\n",
    "print(\"All datasets filled\")\n",
    "# TODO : See how it's possible to shuffler the whole dataframes\n",
    "# py\"shuffle\"(final_df_train)\n",
    "# py\"shuffle\"(final_df_test)"
   ]
  },
  {
   "cell_type": "code",
   "execution_count": 12,
   "metadata": {},
   "outputs": [
    {
     "name": "stdout",
     "output_type": "stream",
     "text": [
      "Labels and data split"
     ]
    }
   ],
   "source": [
    "x_dataset_train = Array{Float64,2}(final_df_train[2:nb_columns])\n",
    "x_dataset_test = Array{Float64,2}(final_df_test[2:nb_columns])\n",
    "\n",
    "y_dataset_train = Array{Int64,1}(final_df_train[1])\n",
    "y_dataset_test = Array{Int64,1}(final_df_test[1])\n",
    "print(\"Labels and data split\")"
   ]
  },
  {
   "cell_type": "markdown",
   "metadata": {},
   "source": [
    "### Train part using SkLearn"
   ]
  },
  {
   "cell_type": "code",
   "execution_count": 13,
   "metadata": {},
   "outputs": [
    {
     "name": "stderr",
     "output_type": "stream",
     "text": [
      "┌ Warning: `getindex(o::PyObject, s::Symbol)` is deprecated in favor of dot overloading (`getproperty`) so elements should now be accessed as e.g. `o.s` instead of `o[:s]`.\n",
      "│   caller = top-level scope at Skcore.jl:158\n",
      "└ @ Core /home/jbuisine/.julia/packages/ScikitLearn/HK6Vs/src/Skcore.jl:158\n",
      "WARNING: redefining constant SVC\n"
     ]
    },
    {
     "data": {
      "text/plain": [
       "PyObject <class 'sklearn.svm.classes.SVC'>"
      ]
     },
     "execution_count": 13,
     "metadata": {},
     "output_type": "execute_result"
    }
   ],
   "source": [
    "using ScikitLearn\n",
    "using ScikitLearn.GridSearch: GridSearchCV\n",
    "@sk_import svm: SVC"
   ]
  },
  {
   "cell_type": "code",
   "execution_count": 22,
   "metadata": {},
   "outputs": [
    {
     "name": "stdout",
     "output_type": "stream",
     "text": [
      "Best parameters: Dict{Symbol,Any}(:gamma=>100.0,:C=>1000.0)\n"
     ]
    }
   ],
   "source": [
    "Cs = [0.001, 0.01, 0.1, 1, 10, 100, 1000]\n",
    "gammas = [0.001, 0.01, 0.1, 1, 5, 10, 100]\n",
    "param_grid = Dict(:C => Cs, :gamma => gammas)\n",
    "\n",
    "gridsearch = GridSearchCV(SVC(), param_grid)\n",
    "fit!(gridsearch, x_dataset_train, y_dataset_train)\n",
    "println(\"Best parameters: $(gridsearch.best_params_)\")"
   ]
  },
  {
   "cell_type": "code",
   "execution_count": 25,
   "metadata": {},
   "outputs": [
    {
     "name": "stdout",
     "output_type": "stream",
     "text": [
      "Train score : 0.9782244556113903\n",
      "Test score : 0.5854341736694678"
     ]
    }
   ],
   "source": [
    "train_score = score(gridsearch, x_dataset_train, y_dataset_train)\n",
    "test_score = score(gridsearch, x_dataset_test, y_dataset_test)\n",
    "print(\"Train score : $(train_score)\\n\")\n",
    "print(\"Test score : $(test_score)\")"
   ]
  },
  {
   "cell_type": "code",
   "execution_count": null,
   "metadata": {},
   "outputs": [],
   "source": []
  }
 ],
 "metadata": {
  "kernelspec": {
   "display_name": "Julia 1.1.0",
   "language": "julia",
   "name": "julia-1.1"
  },
  "language_info": {
   "file_extension": ".jl",
   "mimetype": "application/julia",
   "name": "julia",
   "version": "1.1.0"
  }
 },
 "nbformat": 4,
 "nbformat_minor": 2
}
