{
 "cells": [
  {
   "cell_type": "code",
   "execution_count": 1,
   "metadata": {},
   "outputs": [],
   "source": [
    "from ipfml.processing.segmentation import divide_in_blocks\n",
    "from PIL import Image\n",
    "import numpy as np"
   ]
  },
  {
   "cell_type": "code",
   "execution_count": 2,
   "metadata": {},
   "outputs": [],
   "source": [
    "noisy_image_path = \"/home/jbuisine/Documents/Thesis/Development/thesis-data/SIN3D_HD_all_center/p3d_bathroom-view0_part6/p3d_bathroom-view0_00500.png\""
   ]
  },
  {
   "cell_type": "code",
   "execution_count": 3,
   "metadata": {},
   "outputs": [],
   "source": [
    "reference_image_path = \"/home/jbuisine/Documents/Thesis/Development/thesis-data/SIN3D_HD_all_center/p3d_bathroom-view0_part6/p3d_bathroom-view0_10000.png\""
   ]
  },
  {
   "cell_type": "code",
   "execution_count": 4,
   "metadata": {},
   "outputs": [],
   "source": [
    "noisy_img = Image.open(noisy_image_path)\n",
    "reference_img = Image.open(reference_image_path)"
   ]
  },
  {
   "cell_type": "code",
   "execution_count": 5,
   "metadata": {},
   "outputs": [],
   "source": [
    "noisy_blocks = divide_in_blocks(noisy_img, (200, 200), pil=True)\n",
    "reference_blocks = divide_in_blocks(reference_img, (200, 200), pil=True)"
   ]
  },
  {
   "cell_type": "code",
   "execution_count": 6,
   "metadata": {},
   "outputs": [],
   "source": [
    "targeted_noisy_block = noisy_blocks[9]\n",
    "targeted_reference_block = reference_blocks[9]"
   ]
  },
  {
   "cell_type": "code",
   "execution_count": 7,
   "metadata": {},
   "outputs": [],
   "source": [
    "targeted_noisy_block.save('noisy_block_10_bathroom.png')\n",
    "targeted_reference_block.save('reference_block_10_bathroom.png')"
   ]
  }
 ],
 "metadata": {
  "kernelspec": {
   "display_name": "Python 3.6.1 64-bit ('thesis-venv': venv)",
   "language": "python",
   "name": "python36164bitthesisvenvvenva88eb0ffd2f54d649db9e765b609711d"
  },
  "language_info": {
   "codemirror_mode": {
    "name": "ipython",
    "version": 3
   },
   "file_extension": ".py",
   "mimetype": "text/x-python",
   "name": "python",
   "nbconvert_exporter": "python",
   "pygments_lexer": "ipython3",
   "version": "3.6.1"
  }
 },
 "nbformat": 4,
 "nbformat_minor": 4
}
