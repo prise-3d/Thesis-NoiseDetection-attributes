{
 "cells": [
  {
   "cell_type": "code",
   "execution_count": 1,
   "metadata": {},
   "outputs": [],
   "source": [
    "import numpy as np\n",
    "import pandas as pd\n",
    "import seaborn as sns\n",
    "import matplotlib.pyplot as plt\n",
    "from matplotlib.pyplot import savefig\n",
    "\n",
    "sns.set(style=\"white\")"
   ]
  },
  {
   "cell_type": "code",
   "execution_count": 2,
   "metadata": {},
   "outputs": [],
   "source": [
    "# Useful function\n",
    "\n",
    "def get_highest_values(arr, n):\n",
    "    return np.array(arr).argsort()[-n:][::-1]\n",
    "\n",
    "def get_lowest_values(arr, n):\n",
    "    return np.array(arr).argsort()[::-1][-n:][::-1]"
   ]
  },
  {
   "cell_type": "code",
   "execution_count": 4,
   "metadata": {},
   "outputs": [],
   "source": [
    "data_file = \"data/temp.train\"\n",
    "interval = 16\n",
    "\n",
    "!python generate/generate_data_model_random.py --output data/temp --interval \"0, 16\"  --kind svdne --metric sub_blocks_area --scenes \"A, D, G, H\" --nb_zones 16 --random 1 --percent 1.0 --step 10 --each 1 --renderer maxwell --custom temp_min_max_values"
   ]
  },
  {
   "cell_type": "markdown",
   "metadata": {},
   "source": [
    "## Correlation analysis between SVD features"
   ]
  },
  {
   "cell_type": "code",
   "execution_count": 23,
   "metadata": {},
   "outputs": [
    {
     "data": {
      "text/html": [
       "<div>\n",
       "<style scoped>\n",
       "    .dataframe tbody tr th:only-of-type {\n",
       "        vertical-align: middle;\n",
       "    }\n",
       "\n",
       "    .dataframe tbody tr th {\n",
       "        vertical-align: top;\n",
       "    }\n",
       "\n",
       "    .dataframe thead th {\n",
       "        text-align: right;\n",
       "    }\n",
       "</style>\n",
       "<table border=\"1\" class=\"dataframe\">\n",
       "  <thead>\n",
       "    <tr style=\"text-align: right;\">\n",
       "      <th></th>\n",
       "      <th>1</th>\n",
       "      <th>2</th>\n",
       "      <th>3</th>\n",
       "      <th>4</th>\n",
       "      <th>5</th>\n",
       "      <th>6</th>\n",
       "      <th>7</th>\n",
       "      <th>8</th>\n",
       "      <th>9</th>\n",
       "      <th>10</th>\n",
       "      <th>11</th>\n",
       "      <th>12</th>\n",
       "      <th>13</th>\n",
       "      <th>14</th>\n",
       "      <th>15</th>\n",
       "      <th>16</th>\n",
       "    </tr>\n",
       "  </thead>\n",
       "  <tbody>\n",
       "    <tr>\n",
       "      <th>0</th>\n",
       "      <td>0.324794</td>\n",
       "      <td>0.312866</td>\n",
       "      <td>0.322848</td>\n",
       "      <td>0.299767</td>\n",
       "      <td>0.293363</td>\n",
       "      <td>0.297960</td>\n",
       "      <td>0.356265</td>\n",
       "      <td>0.352835</td>\n",
       "      <td>0.342121</td>\n",
       "      <td>0.346001</td>\n",
       "      <td>0.329509</td>\n",
       "      <td>0.395399</td>\n",
       "      <td>0.329650</td>\n",
       "      <td>0.330198</td>\n",
       "      <td>0.373116</td>\n",
       "      <td>0.376142</td>\n",
       "    </tr>\n",
       "    <tr>\n",
       "      <th>1</th>\n",
       "      <td>0.405203</td>\n",
       "      <td>0.398725</td>\n",
       "      <td>0.382701</td>\n",
       "      <td>0.371753</td>\n",
       "      <td>0.359809</td>\n",
       "      <td>0.378521</td>\n",
       "      <td>0.433581</td>\n",
       "      <td>0.430025</td>\n",
       "      <td>0.422838</td>\n",
       "      <td>0.412620</td>\n",
       "      <td>0.397897</td>\n",
       "      <td>0.450624</td>\n",
       "      <td>0.399871</td>\n",
       "      <td>0.401700</td>\n",
       "      <td>0.441800</td>\n",
       "      <td>0.445671</td>\n",
       "    </tr>\n",
       "    <tr>\n",
       "      <th>2</th>\n",
       "      <td>0.323862</td>\n",
       "      <td>0.311452</td>\n",
       "      <td>0.321688</td>\n",
       "      <td>0.299141</td>\n",
       "      <td>0.292455</td>\n",
       "      <td>0.297024</td>\n",
       "      <td>0.354646</td>\n",
       "      <td>0.351711</td>\n",
       "      <td>0.342375</td>\n",
       "      <td>0.344822</td>\n",
       "      <td>0.329067</td>\n",
       "      <td>0.395195</td>\n",
       "      <td>0.329192</td>\n",
       "      <td>0.329481</td>\n",
       "      <td>0.372637</td>\n",
       "      <td>0.375534</td>\n",
       "    </tr>\n",
       "    <tr>\n",
       "      <th>3</th>\n",
       "      <td>0.324096</td>\n",
       "      <td>0.312037</td>\n",
       "      <td>0.322657</td>\n",
       "      <td>0.299463</td>\n",
       "      <td>0.292699</td>\n",
       "      <td>0.297577</td>\n",
       "      <td>0.355800</td>\n",
       "      <td>0.352304</td>\n",
       "      <td>0.342609</td>\n",
       "      <td>0.345576</td>\n",
       "      <td>0.328781</td>\n",
       "      <td>0.395006</td>\n",
       "      <td>0.329373</td>\n",
       "      <td>0.329939</td>\n",
       "      <td>0.372829</td>\n",
       "      <td>0.376044</td>\n",
       "    </tr>\n",
       "    <tr>\n",
       "      <th>4</th>\n",
       "      <td>0.331964</td>\n",
       "      <td>0.317376</td>\n",
       "      <td>0.328495</td>\n",
       "      <td>0.306394</td>\n",
       "      <td>0.300271</td>\n",
       "      <td>0.305322</td>\n",
       "      <td>0.361229</td>\n",
       "      <td>0.359550</td>\n",
       "      <td>0.348661</td>\n",
       "      <td>0.350282</td>\n",
       "      <td>0.333434</td>\n",
       "      <td>0.398975</td>\n",
       "      <td>0.334180</td>\n",
       "      <td>0.334781</td>\n",
       "      <td>0.377515</td>\n",
       "      <td>0.381927</td>\n",
       "    </tr>\n",
       "  </tbody>\n",
       "</table>\n",
       "</div>"
      ],
      "text/plain": [
       "         1         2         3         4         5         6         7   \\\n",
       "0  0.324794  0.312866  0.322848  0.299767  0.293363  0.297960  0.356265   \n",
       "1  0.405203  0.398725  0.382701  0.371753  0.359809  0.378521  0.433581   \n",
       "2  0.323862  0.311452  0.321688  0.299141  0.292455  0.297024  0.354646   \n",
       "3  0.324096  0.312037  0.322657  0.299463  0.292699  0.297577  0.355800   \n",
       "4  0.331964  0.317376  0.328495  0.306394  0.300271  0.305322  0.361229   \n",
       "\n",
       "         8         9         10        11        12        13        14  \\\n",
       "0  0.352835  0.342121  0.346001  0.329509  0.395399  0.329650  0.330198   \n",
       "1  0.430025  0.422838  0.412620  0.397897  0.450624  0.399871  0.401700   \n",
       "2  0.351711  0.342375  0.344822  0.329067  0.395195  0.329192  0.329481   \n",
       "3  0.352304  0.342609  0.345576  0.328781  0.395006  0.329373  0.329939   \n",
       "4  0.359550  0.348661  0.350282  0.333434  0.398975  0.334180  0.334781   \n",
       "\n",
       "         15        16  \n",
       "0  0.373116  0.376142  \n",
       "1  0.441800  0.445671  \n",
       "2  0.372637  0.375534  \n",
       "3  0.372829  0.376044  \n",
       "4  0.377515  0.381927  "
      ]
     },
     "execution_count": 23,
     "metadata": {},
     "output_type": "execute_result"
    }
   ],
   "source": [
    "df = pd.read_csv(data_file, sep=';', header=None)\n",
    "df = df.drop(df.columns[[0]], axis=1)\n",
    "df.head()"
   ]
  },
  {
   "cell_type": "code",
   "execution_count": 24,
   "metadata": {},
   "outputs": [],
   "source": [
    "# Compute the correlation matrix\n",
    "corr = df[1:interval].corr()"
   ]
  },
  {
   "cell_type": "code",
   "execution_count": 25,
   "metadata": {},
   "outputs": [
    {
     "data": {
      "image/png": "[encoded data removed]",
      "text/plain": [
       "<Figure size 2160x1440 with 2 Axes>"
      ]
     },
     "metadata": {},
     "output_type": "display_data"
    }
   ],
   "source": [
    "# Generate a mask for the upper triangle\n",
    "mask = np.zeros_like(corr, dtype=np.bool)\n",
    "mask[np.triu_indices_from(mask)] = True\n",
    "\n",
    "# Set up the matplotlib figure\n",
    "f, ax = plt.subplots(figsize=(30, 20))\n",
    "\n",
    "# Generate a custom diverging colormap\n",
    "cmap = sns.diverging_palette(220, 10, as_cmap=True)\n",
    "\n",
    "# Draw the heatmap with the mask and correct aspect ratio\n",
    "sns.heatmap(corr, mask=mask, cmap=cmap,\n",
    "            square=True, linewidths=.5, cbar_kws={\"shrink\": .5})\n",
    "savefig('corr_no_label.png')"
   ]
  },
  {
   "cell_type": "code",
   "execution_count": 7,
   "metadata": {},
   "outputs": [],
   "source": [
    "features_corr = []\n",
    "\n",
    "for id_row, row in enumerate(corr):\n",
    "    correlation_score = 0\n",
    "    for id_col, val in enumerate(corr[row]):\n",
    "        if id_col != id_row:\n",
    "            correlation_score += abs(val)\n",
    "\n",
    "    features_corr.append(correlation_score)"
   ]
  },
  {
   "cell_type": "code",
   "execution_count": 8,
   "metadata": {},
   "outputs": [
    {
     "data": {
      "text/plain": [
       "array([101, 100, 102,  99, 103, 104,  98, 105,  97,  96,  95, 106,  94,\n",
       "       107,  93, 108,  92, 109,  91, 110])"
      ]
     },
     "execution_count": 8,
     "metadata": {},
     "output_type": "execute_result"
    }
   ],
   "source": [
    "get_highest_values(features_corr, 20)"
   ]
  },
  {
   "cell_type": "code",
   "execution_count": 9,
   "metadata": {},
   "outputs": [
    {
     "data": {
      "text/plain": [
       "array([199,   1,   0,   3,   2,   4,   5,   6,   7,   8,   9,  10, 198,\n",
       "        11,  12, 197, 196, 195,  13, 193])"
      ]
     },
     "execution_count": 9,
     "metadata": {},
     "output_type": "execute_result"
    }
   ],
   "source": [
    "get_lowest_values(features_corr, 20)"
   ]
  },
  {
   "cell_type": "markdown",
   "metadata": {},
   "source": [
    "## Correlation analysis between SVD features and labels"
   ]
  },
  {
   "cell_type": "code",
   "execution_count": 26,
   "metadata": {},
   "outputs": [
    {
     "data": {
      "text/html": [
       "<div>\n",
       "<style scoped>\n",
       "    .dataframe tbody tr th:only-of-type {\n",
       "        vertical-align: middle;\n",
       "    }\n",
       "\n",
       "    .dataframe tbody tr th {\n",
       "        vertical-align: top;\n",
       "    }\n",
       "\n",
       "    .dataframe thead th {\n",
       "        text-align: right;\n",
       "    }\n",
       "</style>\n",
       "<table border=\"1\" class=\"dataframe\">\n",
       "  <thead>\n",
       "    <tr style=\"text-align: right;\">\n",
       "      <th></th>\n",
       "      <th>0</th>\n",
       "      <th>1</th>\n",
       "      <th>2</th>\n",
       "      <th>3</th>\n",
       "      <th>4</th>\n",
       "      <th>5</th>\n",
       "      <th>6</th>\n",
       "      <th>7</th>\n",
       "      <th>8</th>\n",
       "      <th>9</th>\n",
       "      <th>10</th>\n",
       "      <th>11</th>\n",
       "      <th>12</th>\n",
       "      <th>13</th>\n",
       "      <th>14</th>\n",
       "      <th>15</th>\n",
       "      <th>16</th>\n",
       "    </tr>\n",
       "  </thead>\n",
       "  <tbody>\n",
       "    <tr>\n",
       "      <th>0</th>\n",
       "      <td>0</td>\n",
       "      <td>0.324794</td>\n",
       "      <td>0.312866</td>\n",
       "      <td>0.322848</td>\n",
       "      <td>0.299767</td>\n",
       "      <td>0.293363</td>\n",
       "      <td>0.297960</td>\n",
       "      <td>0.356265</td>\n",
       "      <td>0.352835</td>\n",
       "      <td>0.342121</td>\n",
       "      <td>0.346001</td>\n",
       "      <td>0.329509</td>\n",
       "      <td>0.395399</td>\n",
       "      <td>0.329650</td>\n",
       "      <td>0.330198</td>\n",
       "      <td>0.373116</td>\n",
       "      <td>0.376142</td>\n",
       "    </tr>\n",
       "    <tr>\n",
       "      <th>1</th>\n",
       "      <td>1</td>\n",
       "      <td>0.405203</td>\n",
       "      <td>0.398725</td>\n",
       "      <td>0.382701</td>\n",
       "      <td>0.371753</td>\n",
       "      <td>0.359809</td>\n",
       "      <td>0.378521</td>\n",
       "      <td>0.433581</td>\n",
       "      <td>0.430025</td>\n",
       "      <td>0.422838</td>\n",
       "      <td>0.412620</td>\n",
       "      <td>0.397897</td>\n",
       "      <td>0.450624</td>\n",
       "      <td>0.399871</td>\n",
       "      <td>0.401700</td>\n",
       "      <td>0.441800</td>\n",
       "      <td>0.445671</td>\n",
       "    </tr>\n",
       "    <tr>\n",
       "      <th>2</th>\n",
       "      <td>0</td>\n",
       "      <td>0.323862</td>\n",
       "      <td>0.311452</td>\n",
       "      <td>0.321688</td>\n",
       "      <td>0.299141</td>\n",
       "      <td>0.292455</td>\n",
       "      <td>0.297024</td>\n",
       "      <td>0.354646</td>\n",
       "      <td>0.351711</td>\n",
       "      <td>0.342375</td>\n",
       "      <td>0.344822</td>\n",
       "      <td>0.329067</td>\n",
       "      <td>0.395195</td>\n",
       "      <td>0.329192</td>\n",
       "      <td>0.329481</td>\n",
       "      <td>0.372637</td>\n",
       "      <td>0.375534</td>\n",
       "    </tr>\n",
       "    <tr>\n",
       "      <th>3</th>\n",
       "      <td>0</td>\n",
       "      <td>0.324096</td>\n",
       "      <td>0.312037</td>\n",
       "      <td>0.322657</td>\n",
       "      <td>0.299463</td>\n",
       "      <td>0.292699</td>\n",
       "      <td>0.297577</td>\n",
       "      <td>0.355800</td>\n",
       "      <td>0.352304</td>\n",
       "      <td>0.342609</td>\n",
       "      <td>0.345576</td>\n",
       "      <td>0.328781</td>\n",
       "      <td>0.395006</td>\n",
       "      <td>0.329373</td>\n",
       "      <td>0.329939</td>\n",
       "      <td>0.372829</td>\n",
       "      <td>0.376044</td>\n",
       "    </tr>\n",
       "    <tr>\n",
       "      <th>4</th>\n",
       "      <td>0</td>\n",
       "      <td>0.331964</td>\n",
       "      <td>0.317376</td>\n",
       "      <td>0.328495</td>\n",
       "      <td>0.306394</td>\n",
       "      <td>0.300271</td>\n",
       "      <td>0.305322</td>\n",
       "      <td>0.361229</td>\n",
       "      <td>0.359550</td>\n",
       "      <td>0.348661</td>\n",
       "      <td>0.350282</td>\n",
       "      <td>0.333434</td>\n",
       "      <td>0.398975</td>\n",
       "      <td>0.334180</td>\n",
       "      <td>0.334781</td>\n",
       "      <td>0.377515</td>\n",
       "      <td>0.381927</td>\n",
       "    </tr>\n",
       "  </tbody>\n",
       "</table>\n",
       "</div>"
      ],
      "text/plain": [
       "   0         1         2         3         4         5         6         7   \\\n",
       "0   0  0.324794  0.312866  0.322848  0.299767  0.293363  0.297960  0.356265   \n",
       "1   1  0.405203  0.398725  0.382701  0.371753  0.359809  0.378521  0.433581   \n",
       "2   0  0.323862  0.311452  0.321688  0.299141  0.292455  0.297024  0.354646   \n",
       "3   0  0.324096  0.312037  0.322657  0.299463  0.292699  0.297577  0.355800   \n",
       "4   0  0.331964  0.317376  0.328495  0.306394  0.300271  0.305322  0.361229   \n",
       "\n",
       "         8         9         10        11        12        13        14  \\\n",
       "0  0.352835  0.342121  0.346001  0.329509  0.395399  0.329650  0.330198   \n",
       "1  0.430025  0.422838  0.412620  0.397897  0.450624  0.399871  0.401700   \n",
       "2  0.351711  0.342375  0.344822  0.329067  0.395195  0.329192  0.329481   \n",
       "3  0.352304  0.342609  0.345576  0.328781  0.395006  0.329373  0.329939   \n",
       "4  0.359550  0.348661  0.350282  0.333434  0.398975  0.334180  0.334781   \n",
       "\n",
       "         15        16  \n",
       "0  0.373116  0.376142  \n",
       "1  0.441800  0.445671  \n",
       "2  0.372637  0.375534  \n",
       "3  0.372829  0.376044  \n",
       "4  0.377515  0.381927  "
      ]
     },
     "execution_count": 26,
     "metadata": {},
     "output_type": "execute_result"
    }
   ],
   "source": [
    "df = pd.read_csv(data_file, sep=';', header=None)\n",
    "df.head()"
   ]
  },
  {
   "cell_type": "code",
   "execution_count": 27,
   "metadata": {},
   "outputs": [],
   "source": [
    "# Compute the correlation matrix\n",
    "corr = df.corr()"
   ]
  },
  {
   "cell_type": "code",
   "execution_count": 28,
   "metadata": {},
   "outputs": [
    {
     "data": {
      "image/png": "[encoded data removed]",
      "text/plain": [
       "<Figure size 2160x1440 with 2 Axes>"
      ]
     },
     "metadata": {},
     "output_type": "display_data"
    }
   ],
   "source": [
    "# Generate a mask for the upper triangle\n",
    "mask = np.zeros_like(corr, dtype=np.bool)\n",
    "mask[np.triu_indices_from(mask)] = True\n",
    "\n",
    "# Set up the matplotlib figure\n",
    "f, ax = plt.subplots(figsize=(30, 20))\n",
    "\n",
    "# Generate a custom diverging colormap\n",
    "cmap = sns.diverging_palette(220, 10, as_cmap=True)\n",
    "\n",
    "# Draw the heatmap with the mask and correct aspect ratio\n",
    "sns.heatmap(corr, mask=mask, cmap=cmap,\n",
    "            square=True, linewidths=.5, cbar_kws={\"shrink\": .5})\n",
    "savefig('corr_with_label.png')"
   ]
  },
  {
   "cell_type": "code",
   "execution_count": 14,
   "metadata": {},
   "outputs": [],
   "source": [
    "features_corr = []\n",
    "\n",
    "for id_row, row in enumerate(corr):\n",
    "    for id_col, val in enumerate(corr[row]):\n",
    "        if id_col == 0 and id_row != 0:\n",
    "            features_corr.append(abs(val))"
   ]
  },
  {
   "cell_type": "code",
   "execution_count": 15,
   "metadata": {},
   "outputs": [
    {
     "data": {
      "text/plain": [
       "array([192, 191, 194, 193, 187, 190, 189, 188, 186, 195, 185, 184, 183,\n",
       "       182, 181, 196, 180, 179, 178, 177])"
      ]
     },
     "execution_count": 15,
     "metadata": {},
     "output_type": "execute_result"
    }
   ],
   "source": [
    "get_highest_values(features_corr, 20)"
   ]
  },
  {
   "cell_type": "code",
   "execution_count": 16,
   "metadata": {},
   "outputs": [
    {
     "data": {
      "text/plain": [
       "array([10, 11,  9, 12,  8,  0,  7, 13, 14, 15,  6,  1, 16, 17, 18, 19,  5,\n",
       "       20, 21, 22])"
      ]
     },
     "execution_count": 16,
     "metadata": {},
     "output_type": "execute_result"
    }
   ],
   "source": [
    "get_lowest_values(features_corr, 20)"
   ]
  },
  {
   "cell_type": "code",
   "execution_count": null,
   "metadata": {},
   "outputs": [],
   "source": []
  }
 ],
 "metadata": {
  "kernelspec": {
   "display_name": "thesis-venv",
   "language": "python",
   "name": "thesis-venv"
  },
  "language_info": {
   "codemirror_mode": {
    "name": "ipython",
    "version": 3
   },
   "file_extension": ".py",
   "mimetype": "text/x-python",
   "name": "python",
   "nbconvert_exporter": "python",
   "pygments_lexer": "ipython3",
   "version": "3.6.0"
  }
 },
 "nbformat": 4,
 "nbformat_minor": 2
}
